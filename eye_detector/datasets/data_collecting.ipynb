{
 "cells": [
  {
   "cell_type": "code",
   "execution_count": 1,
   "metadata": {
    "collapsed": true
   },
   "outputs": [],
   "source": [
    "from imutils.paths import list_images\n",
    "import os"
   ]
  },
  {
   "cell_type": "code",
   "execution_count": null,
   "outputs": [],
   "source": [
    "from mtcnnort.mtcnn_ort import MTCNN\n",
    "import numpy as np\n",
    "from imutils.paths import list_images\n",
    "import cv2\n",
    "import dlib"
   ],
   "metadata": {
    "collapsed": false,
    "pycharm": {
     "is_executing": true
    }
   }
  },
  {
   "cell_type": "code",
   "execution_count": 26,
   "outputs": [
    {
     "name": "stdout",
     "output_type": "stream",
     "text": [
      ">> PNet ONNX is loaded\n",
      ">> RNet ONNX is loaded\n",
      ">> ONet ONNX is loaded\n"
     ]
    },
    {
     "ename": "NameError",
     "evalue": "name 'dlib' is not defined",
     "output_type": "error",
     "traceback": [
      "\u001B[0;31m---------------------------------------------------------------------------\u001B[0m",
      "\u001B[0;31mNameError\u001B[0m                                 Traceback (most recent call last)",
      "Cell \u001B[0;32mIn [26], line 2\u001B[0m\n\u001B[1;32m      1\u001B[0m detector \u001B[38;5;241m=\u001B[39m MTCNN()\n\u001B[0;32m----> 2\u001B[0m predictor \u001B[38;5;241m=\u001B[39m \u001B[43mdlib\u001B[49m\u001B[38;5;241m.\u001B[39mshape_predictor(\u001B[38;5;124m'\u001B[39m\u001B[38;5;124mmodels/model.dat\u001B[39m\u001B[38;5;124m'\u001B[39m)\n\u001B[1;32m      3\u001B[0m IMG_SIZE \u001B[38;5;241m=\u001B[39m (\u001B[38;5;241m34\u001B[39m, \u001B[38;5;241m26\u001B[39m)\n",
      "\u001B[0;31mNameError\u001B[0m: name 'dlib' is not defined"
     ]
    }
   ],
   "source": [
    "detector = MTCNN()\n",
    "predictor = dlib.shape_predictor('models/model.dat')\n",
    "IMG_SIZE = (34, 26)"
   ],
   "metadata": {
    "collapsed": false
   }
  },
  {
   "cell_type": "code",
   "execution_count": 16,
   "outputs": [],
   "source": [
    "def crop_eye(img, eye_points):\n",
    "    x1, y1 = np.amin(eye_points, axis=0)\n",
    "    x2, y2 = np.amax(eye_points, axis=0)\n",
    "    cx, cy = (x1 + x2) / 2, (y1 + y2) / 2\n",
    "\n",
    "    w = (x2 - x1) * 1.2\n",
    "    h = w * IMG_SIZE[1] / IMG_SIZE[0]\n",
    "\n",
    "    margin_x, margin_y = w / 2, h / 2\n",
    "\n",
    "    min_x, min_y = int(cx - margin_x), int(cy - margin_y)\n",
    "    max_x, max_y = int(cx + margin_x), int(cy + margin_y)\n",
    "\n",
    "    eye_rect = np.rint([min_x, min_y, max_x, max_y]).astype(np.int32)\n",
    "\n",
    "    eye_img = img[eye_rect[1]:eye_rect[3], eye_rect[0]:eye_rect[2]]\n",
    "\n",
    "    return eye_img, eye_rect"
   ],
   "metadata": {
    "collapsed": false
   }
  },
  {
   "cell_type": "code",
   "execution_count": null,
   "outputs": [],
   "source": [
    "# check face found\n",
    "\n",
    "for image in list_images('images/original_images/close_eye_images'):\n",
    "    print(\"Image -> \", image)\n",
    "    img = cv2.imread(image)\n",
    "    gray = cv2.cvtColor(img, cv2.COLOR_BGR2GRAY)\n",
    "    bbox, _ = detector.detect_faces_raw(cv2.cvtColor(img, cv2.COLOR_BGR2RGB))\n",
    "\n"
   ],
   "metadata": {
    "collapsed": false,
    "pycharm": {
     "is_executing": true
    }
   }
  },
  {
   "cell_type": "code",
   "execution_count": null,
   "outputs": [],
   "source": [],
   "metadata": {
    "collapsed": false
   }
  }
 ],
 "metadata": {
  "kernelspec": {
   "display_name": "Python 3",
   "language": "python",
   "name": "python3"
  },
  "language_info": {
   "codemirror_mode": {
    "name": "ipython",
    "version": 2
   },
   "file_extension": ".py",
   "mimetype": "text/x-python",
   "name": "python",
   "nbconvert_exporter": "python",
   "pygments_lexer": "ipython2",
   "version": "2.7.6"
  }
 },
 "nbformat": 4,
 "nbformat_minor": 0
}
